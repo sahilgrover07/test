{
 "cells": [
  {
   "cell_type": "markdown",
   "metadata": {},
   "source": [
    "# Assignment 2 Variables, Conditions and Functions "
   ]
  },
  {
   "cell_type": "markdown",
   "metadata": {},
   "source": [
    "## Chapter 2"
   ]
  },
  {
   "cell_type": "markdown",
   "metadata": {},
   "source": [
    "### Exercise 2: Write a program that uses input to prompt a user for their name and then welcomes them."
   ]
  },
  {
   "cell_type": "code",
   "execution_count": 1,
   "metadata": {},
   "outputs": [
    {
     "name": "stdout",
     "output_type": "stream",
     "text": [
      "enter name\n",
      "Test\n",
      "Welcome Test\n"
     ]
    }
   ],
   "source": [
    "print(\"enter name\")\n",
    "name=input()\n",
    "print(\"Welcome \" + name)"
   ]
  },
  {
   "cell_type": "markdown",
   "metadata": {},
   "source": [
    "### Exercise 3: Write a program to prompt the user for hours and rate per hour to compute gross pay."
   ]
  },
  {
   "cell_type": "code",
   "execution_count": 12,
   "metadata": {},
   "outputs": [
    {
     "name": "stdout",
     "output_type": "stream",
     "text": [
      "Enter hours\n",
      "10\n",
      "enter rate per hour\n",
      "10\n",
      "Tota pay is = 100\n"
     ]
    }
   ],
   "source": [
    "print(\"Enter hours\")\n",
    "hours=int(input())\n",
    "type(hours)\n",
    "print(\"enter rate per hour\")\n",
    "rate=int(input())\n",
    "type(rate)\n",
    "print(\"Tota pay is =\",rate*hours)"
   ]
  },
  {
   "cell_type": "markdown",
   "metadata": {},
   "source": [
    "### Exercise 4: Assume that we execute the following assignment statements:"
   ]
  },
  {
   "cell_type": "code",
   "execution_count": 23,
   "metadata": {},
   "outputs": [
    {
     "name": "stdout",
     "output_type": "stream",
     "text": [
      "<class 'int'> 8\n",
      "<class 'float'> 8.5\n",
      "<class 'float'> 4.0\n",
      "<class 'int'> 11\n"
     ]
    }
   ],
   "source": [
    "width=17\n",
    "height=12.0\n",
    "quotient=width//2\n",
    "print(type(quotient), quotient)\n",
    "remainder=width/2.0\n",
    "print(type(remainder),remainder)\n",
    "remainderH=height/3\n",
    "print(type(remainderH),remainderH)\n",
    "operator=1+2*5\n",
    "print(type(operator),operator)"
   ]
  },
  {
   "cell_type": "markdown",
   "metadata": {},
   "source": [
    "### Exercise 5: Write a program which prompts the user for a Celsius temperature, convert the temperature to Fahrenheit, and print out the\n",
    "### converted temperature."
   ]
  },
  {
   "cell_type": "code",
   "execution_count": 13,
   "metadata": {},
   "outputs": [
    {
     "name": "stdout",
     "output_type": "stream",
     "text": [
      "provide temp. in Celsius\n",
      "22\n",
      "fahrenheit= 71.6\n"
     ]
    }
   ],
   "source": [
    "print(\"provide temp. in Celsius\")\n",
    "celsius=int(input())\n",
    "fahrenheit=(celsius*9/5)+32\n",
    "print(\"fahrenheit=\", fahrenheit)"
   ]
  },
  {
   "cell_type": "markdown",
   "metadata": {},
   "source": [
    "## Chapter 3"
   ]
  },
  {
   "cell_type": "markdown",
   "metadata": {},
   "source": [
    "### Exercise 1: Rewrite your pay computation to give the employee 1.5 times the hourly rate for hours worked above 40 hours."
   ]
  },
  {
   "cell_type": "code",
   "execution_count": 20,
   "metadata": {},
   "outputs": [
    {
     "name": "stdout",
     "output_type": "stream",
     "text": [
      "Enter hours\n",
      "40\n",
      "enter rate per hour\n",
      "10\n",
      "Tota pay is = 400\n"
     ]
    }
   ],
   "source": [
    "print(\"Enter hours\")\n",
    "hours=int(input())\n",
    "print(\"enter rate per hour\")\n",
    "rate=int(input())\n",
    "if(hours<=40):\n",
    "    print(\"Tota pay is =\",rate*hours)\n",
    "else:\n",
    "    extra=hours-40\n",
    "    print(\"Total pay is =\",rate*40+extra*rate*1.5)"
   ]
  },
  {
   "cell_type": "markdown",
   "metadata": {},
   "source": [
    "### Exercise 2: Rewrite your pay program using try and except so that your program handles non-numeric input gracefully by printing a message and exiting the program. The following shows two executions of the program:"
   ]
  },
  {
   "cell_type": "code",
   "execution_count": 21,
   "metadata": {},
   "outputs": [
    {
     "name": "stdout",
     "output_type": "stream",
     "text": [
      "Enter hours\n",
      "4\n",
      "enter rate per hour\n",
      "y\n",
      "Kindly, enter numeric value\n"
     ]
    }
   ],
   "source": [
    "try:\n",
    "    print(\"Enter hours\")\n",
    "    hours=int(input())\n",
    "    print(\"enter rate per hour\")\n",
    "    rate=int(input())\n",
    "    if(hours<=40):\n",
    "        print(\"Tota pay is =\",rate*hours)\n",
    "    else:\n",
    "        extra=hours-40\n",
    "        print(\"Total pay is =\",rate*40+extra*rate*1.5)\n",
    "except:\n",
    "    print(\"Kindly, enter numeric value\")"
   ]
  },
  {
   "cell_type": "markdown",
   "metadata": {},
   "source": [
    "### Exercise 3: Write a program to prompt for a score between 0.0 and 1.0. If the score is out of range, print an error message. If the score is between 0.0 and 1.0, print a grade using the following table:"
   ]
  },
  {
   "cell_type": "code",
   "execution_count": 53,
   "metadata": {},
   "outputs": [
    {
     "name": "stdout",
     "output_type": "stream",
     "text": [
      "Enter Grade\n",
      "1\n",
      "Bad score\n"
     ]
    }
   ],
   "source": [
    "print(\"Enter Grade\")\n",
    "grade=float(input())\n",
    "if(grade>=0.9 and grade<1.0):\n",
    "    print(\"A\")\n",
    "elif(grade>=0.8 and grade<0.9):\n",
    "    print(\"B\")\n",
    "elif(grade>=0.7 and grade<0.8):\n",
    "    print(\"C\")\n",
    "elif(grade>=0.6 and grade<0.7):\n",
    "    print(\"D\")\n",
    "elif(grade>=0.0 and grade<0.6):\n",
    "    print(\"F\")\n",
    "else:\n",
    "    print(\"Bad score\")"
   ]
  },
  {
   "cell_type": "markdown",
   "metadata": {},
   "source": [
    "## Chapter 4"
   ]
  },
  {
   "cell_type": "markdown",
   "metadata": {},
   "source": [
    "### Exercise 5: What will the following Python program print out? (See textbook page 54)\n",
    "### def fred():\n",
    "###     print(\"Zap\")\n",
    "### def jane():\n",
    "###     print(\"ABC\")"
   ]
  },
  {
   "cell_type": "code",
   "execution_count": null,
   "metadata": {},
   "outputs": [],
   "source": [
    "ABC Zap ABC"
   ]
  },
  {
   "cell_type": "markdown",
   "metadata": {},
   "source": [
    "### Exercise 6: Rewrite your pay computation with time-and-a-half for over-time and create a function called computepay which takes two parameters (hours and rate)."
   ]
  },
  {
   "cell_type": "code",
   "execution_count": 50,
   "metadata": {},
   "outputs": [
    {
     "name": "stdout",
     "output_type": "stream",
     "text": [
      "Enter hours\n",
      "45\n",
      "Enter Rate\n",
      "10\n",
      "pay: 475.0\n"
     ]
    }
   ],
   "source": [
    "print(\"Enter hours\")\n",
    "hours=int(input())\n",
    "print(\"Enter Rate\")\n",
    "rate=int(input())\n",
    "if(hours<=40):\n",
    "    def computepay(hours, rate):\n",
    "        pay=hours*rate\n",
    "        print(\"pay:\", pay)\n",
    "    computepay(hours,rate)\n",
    "else:\n",
    "    extra=hours-40\n",
    "    def computepay(hours, rate):\n",
    "        pay=(extra*rate*1.5)+40*rate\n",
    "        print(\"pay:\", pay)\n",
    "    computepay(hours,rate)"
   ]
  },
  {
   "cell_type": "markdown",
   "metadata": {},
   "source": [
    "### Exercise 7: Rewrite the grade program from the previous chapter using a function called computegrade that takes a score as its parameter and returns a grade as a string."
   ]
  },
  {
   "cell_type": "code",
   "execution_count": 57,
   "metadata": {},
   "outputs": [
    {
     "name": "stdout",
     "output_type": "stream",
     "text": [
      "Enter Grade\n",
      "1\n",
      "bad score\n"
     ]
    }
   ],
   "source": [
    "def computegrade(grade):\n",
    "    if(grade>=0.9 and grade<1.0):\n",
    "        print(\"A\")\n",
    "    elif(grade>=0.8 and grade<0.9):\n",
    "        print(\"B\")\n",
    "    elif(grade>=0.7 and grade<0.8):\n",
    "        print(\"C\")\n",
    "    elif(grade>=0.6 and grade<0.7):\n",
    "        print(\"D\")\n",
    "    elif(grade>=0.0 and grade<0.6):\n",
    "        print(\"F\")\n",
    "    else:\n",
    "        print(\"bad score\")\n",
    "print(\"Enter Grade\")\n",
    "grade=float(input())\n",
    "score=computegrade(grade)\n",
    "    \n"
   ]
  },
  {
   "cell_type": "code",
   "execution_count": null,
   "metadata": {},
   "outputs": [],
   "source": []
  }
 ],
 "metadata": {
  "kernelspec": {
   "display_name": "Python 3",
   "language": "python",
   "name": "python3"
  },
  "language_info": {
   "codemirror_mode": {
    "name": "ipython",
    "version": 3
   },
   "file_extension": ".py",
   "mimetype": "text/x-python",
   "name": "python",
   "nbconvert_exporter": "python",
   "pygments_lexer": "ipython3",
   "version": "3.7.1"
  }
 },
 "nbformat": 4,
 "nbformat_minor": 2
}
